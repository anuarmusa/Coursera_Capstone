{
    "cells": [
        {
            "cell_type": "markdown",
            "metadata": {
                "collapsed": true
            },
            "source": "<h1>Datascience Capstone Project</h1>"
        },
        {
            "cell_type": "markdown",
            "metadata": {},
            "source": "In this capstone project, hopefully I will learn new skill related location data and how to use it develop cool applciations."
        },
        {
            "cell_type": "markdown",
            "metadata": {},
            "source": "Import the Following Libraries:\n<ul>\n    <li> <b>numpy (as np)</b> </li>\n    <li> <b>pandas</b> </li>\n</ul>"
        },
        {
            "cell_type": "code",
            "execution_count": 3,
            "metadata": {},
            "outputs": [],
            "source": "import numpy as np \nimport pandas as pd"
        },
        {
            "cell_type": "markdown",
            "metadata": {},
            "source": "Hello Capstone Project Course!"
        }
    ],
    "metadata": {
        "kernelspec": {
            "display_name": "Python 3.6",
            "language": "python",
            "name": "python3"
        },
        "language_info": {
            "codemirror_mode": {
                "name": "ipython",
                "version": 3
            },
            "file_extension": ".py",
            "mimetype": "text/x-python",
            "name": "python",
            "nbconvert_exporter": "python",
            "pygments_lexer": "ipython3",
            "version": "3.6.9"
        }
    },
    "nbformat": 4,
    "nbformat_minor": 1
}